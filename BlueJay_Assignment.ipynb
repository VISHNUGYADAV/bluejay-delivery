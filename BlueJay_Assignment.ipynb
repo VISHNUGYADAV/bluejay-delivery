{
 "cells": [
  {
   "cell_type": "code",
   "execution_count": 1,
   "id": "7bf795b8",
   "metadata": {},
   "outputs": [],
   "source": [
    "import pandas as pd\n",
    "from datetime import datetime, timedelta"
   ]
  },
  {
   "cell_type": "code",
   "execution_count": 2,
   "id": "c9cd3d53",
   "metadata": {},
   "outputs": [
    {
     "ename": "SyntaxError",
     "evalue": "incomplete input (1821256755.py, line 18)",
     "output_type": "error",
     "traceback": [
      "\u001b[1;36m  Cell \u001b[1;32mIn[2], line 18\u001b[1;36m\u001b[0m\n\u001b[1;33m    def analyze_timecard_data(df):\u001b[0m\n\u001b[1;37m                                  ^\u001b[0m\n\u001b[1;31mSyntaxError\u001b[0m\u001b[1;31m:\u001b[0m incomplete input\n"
     ]
    }
   ],
   "source": [
    "def read_timecard_file(file_name):\n",
    "    \"\"\"\n",
    "    Reads the Assignment_Timecard.xlsx file and returns a DataFrame\n",
    "    representing each employee's timecard entries.\n",
    "\n",
    "    Args:\n",
    "    file_name (str): The name of the Excel file to read.\n",
    "\n",
    "    Returns:\n",
    "    DataFrame: A DataFrame representing each employee's timecard entries.\n",
    "    \"\"\"\n",
    "    df = pd.read_excel(file_name)\n",
    "    df = df.rename(columns={'Employee': 'Position ID', 'Time In': 'Time', 'Time Out': 'Time out'})\n",
    "    df['Time'] = pd.to_datetime(df['Time'])\n",
    "    df['Time out'] = pd.to_datetime(df['Time out'])\n",
    "    return df\n",
    "\n",
    "def analyze_timecard_data(df):"
   ]
  },
  {
   "cell_type": "code",
   "execution_count": 3,
   "id": "0908ea59",
   "metadata": {},
   "outputs": [
    {
     "ename": "IndentationError",
     "evalue": "unexpected indent (3934621648.py, line 4)",
     "output_type": "error",
     "traceback": [
      "\u001b[1;36m  Cell \u001b[1;32mIn[3], line 4\u001b[1;36m\u001b[0m\n\u001b[1;33m    consecutive_days = defaultdict(list)\u001b[0m\n\u001b[1;37m    ^\u001b[0m\n\u001b[1;31mIndentationError\u001b[0m\u001b[1;31m:\u001b[0m unexpected indent\n"
     ]
    }
   ],
   "source": [
    " df['Hours Worked'] = (df['Time out'] - df['Time']).dt.total_seconds() / 3600\n",
    "\n",
    "    # Find employees who worked for 7 consecutive days\n",
    "    consecutive_days = defaultdict(list)\n",
    "    for _, row in df.iterrows():\n",
    "        consecutive_days[row['Position ID']].append(row['Time'].date())\n",
    "\n",
    "    consecutive_days_employees = []\n",
    "    for employee, dates in consecutive_days.items():\n",
    "        if len(set(dates)) == 7:\n",
    "            consecutive_days_employees.append(employee)\n",
    "\n",
    "    print(f\"Employees who worked for 7 consecutive days: {consecutive_days_employees}\")"
   ]
  },
  {
   "cell_type": "code",
   "execution_count": 4,
   "id": "50b0ac8c",
   "metadata": {},
   "outputs": [
    {
     "ename": "IndentationError",
     "evalue": "unexpected indent (1919278940.py, line 2)",
     "output_type": "error",
     "traceback": [
      "\u001b[1;36m  Cell \u001b[1;32mIn[4], line 2\u001b[1;36m\u001b[0m\n\u001b[1;33m    short_breaks = df[df['Position ID'].isin(df['Position ID'].shift()) &\u001b[0m\n\u001b[1;37m    ^\u001b[0m\n\u001b[1;31mIndentationError\u001b[0m\u001b[1;31m:\u001b[0m unexpected indent\n"
     ]
    }
   ],
   "source": [
    "# Find employees with less than 10 hours between shifts but greater than 1 hour\n",
    "    short_breaks = df[df['Position ID'].isin(df['Position ID'].shift()) &\n",
    "                      (df['Time out'].shift() + timedelta(hours=1) < df['Time'])]\n",
    "\n",
    "    short_breaks_employees = short_breaks['Position ID'].unique()\n",
    "    print(f\"Employees with less than 10 hours between shifts but greater than 1 hour: {short_breaks_employees}\")\n",
    "\n",
    "    # Find employees who worked for more than 14 hours in a single shift\n",
    "    long_shifts = df[df['Hours Worked'] > 14]\n",
    "\n",
    "    long_shifts_employees = long_shifts['Position ID'].unique()\n",
    "    print(f\"Employees who worked for more than 14 hours in a single shift: {long_shifts_employees}\")\n",
    "\n",
    "# Read the timecard file\n",
    "df = read_timecard_file('Assignment_Timecard.xlsx')\n",
    "\n",
    "# Analyze the timecard data\n",
    "analyze_timecard_data(df)"
   ]
  },
  {
   "cell_type": "code",
   "execution_count": 7,
   "id": "d372b442",
   "metadata": {},
   "outputs": [
    {
     "ename": "IndentationError",
     "evalue": "expected an indented block after function definition on line 1 (3967060621.py, line 2)",
     "output_type": "error",
     "traceback": [
      "\u001b[1;36m  Cell \u001b[1;32mIn[7], line 2\u001b[1;36m\u001b[0m\n\u001b[1;33m    def analyze_timecard_data(df):\u001b[0m\n\u001b[1;37m    ^\u001b[0m\n\u001b[1;31mIndentationError\u001b[0m\u001b[1;31m:\u001b[0m expected an indented block after function definition on line 1\n"
     ]
    }
   ],
   "source": [
    "def read_timecard_file(file_name):\n",
    "def analyze_timecard_data(df):\n",
    "    df['Hours Worked'] = (df['Time out'] - df['Time']).dt.total_seconds() / 3600\n",
    "\n",
    "    # Find employees who worked for 7 consecutive days\n",
    "    consecutive_days = defaultdict(list)\n",
    "    for _, row in df.iterrows():\n",
    "        consecutive_days[row['Position ID']].append(row['Time'].date())\n",
    "\n",
    "    consecutive_days_employees = []\n",
    "    for employee, dates in consecutive_days.items():\n",
    "        if len(set(dates)) == 7:\n",
    "            consecutive_days_employees.append(employee)\n",
    "\n",
    "    print(f\"Employees who worked for 7 consecutive days: {consecutive_days_employees}\")\n",
    "\n",
    "# Find employees with less than 10 hours between shifts but greater than 1 hour\n",
    "    short_breaks = df[df['Position ID'].isin(df['Position ID'].shift()) &\n",
    "                      (df['Time out'].shift() + timedelta(hours=1) < df['Time'])]\n",
    "\n",
    "    short_breaks_employees = short_breaks['Position ID'].unique()\n",
    "    print(f\"Employees with less than 10 hours between shifts but greater than 1 hour: {short_breaks_employees}\")\n",
    "\n",
    "    # Find employees who worked for more than 14 hours in a single shift\n",
    "    long_shifts = df[df['Hours Worked'] > 14]\n",
    "\n",
    "    long_shifts_employees = long_shifts['Position ID'].unique()\n",
    "    print(f\"Employees who worked for more than 14 hours in a single shift: {long_shifts_employees}\")\n",
    "\n",
    "# Read the timecard file\n",
    "df = read_timecard_file('Assignment_Timecard.xlsx')\n",
    "\n",
    "# Analyze the timecard data\n",
    "analyze_timecard_data(df)"
   ]
  },
  {
   "cell_type": "code",
   "execution_count": 9,
   "id": "447c68de",
   "metadata": {},
   "outputs": [
    {
     "name": "stdout",
     "output_type": "stream",
     "text": [
      "Employees who worked for 7 consecutive days: ['WFS000306', 'WFS000382', 'WFS000418', 'WFS000549', 'WFS000557', 'WFS000577', 'WFS000582']\n",
      "Employees with less than 10 hours between shifts but greater than 1 hour: ['WFS000065' 'WFS000101' 'WFS000127' 'WFS000153' 'WFS000170' 'WFS000180'\n",
      " 'WFS000181' 'WFS000183' 'WFS000185' 'WFS000200' 'WFS000226' 'WFS000228'\n",
      " 'WFS000246' 'WFS000268' 'WFS000306' 'WFS000318' 'WFS000336' 'WFS000345'\n",
      " 'WFS000360' 'WFS000362' 'WFS000364' 'WFS000368' 'WFS000372' 'WFS000382'\n",
      " 'WFS000391' 'WFS000393' 'WFS000412' 'WFS000414' 'WFS000418' 'WFS000420'\n",
      " 'WFS000424' 'WFS000426' 'WFS000434' 'WFS000442' 'WFS000446' 'WFS000456'\n",
      " 'WFS000457' 'WFS000460' 'WFS000462' 'WFS000463' 'WFS000465' 'WFS000469'\n",
      " 'WFS000473' 'WFS000477' 'WFS000491' 'WFS000495' 'WFS000496' 'WFS000499'\n",
      " 'WFS000500' 'WFS000501' 'WFS000503' 'WFS000505' 'WFS000507' 'WFS000508'\n",
      " 'WFS000509' 'WFS000511' 'WFS000514' 'WFS000515' 'WFS000517' 'WFS000518'\n",
      " 'WFS000519' 'WFS000521' 'WFS000522' 'WFS000523' 'WFS000528' 'WFS000530'\n",
      " 'WFS000536' 'WFS000538' 'WFS000541' 'WFS000546' 'WFS000548' 'WFS000549'\n",
      " 'WFS000550' 'WFS000551' 'WFS000552' 'WFS000555' 'WFS000556' 'WFS000557'\n",
      " 'WFS000566' 'WFS000569' 'WFS000571' 'WFS000572' 'WFS000573' 'WFS000574'\n",
      " 'WFS000577' 'WFS000578' 'WFS000579' 'WFS000581' 'WFS000582' 'WFS000583'\n",
      " 'WFS000584' 'WFS000585' 'WFS000587' 'WFS000588' 'WFS000589']\n",
      "Employees who worked for more than 14 hours in a single shift: ['WFS000523']\n"
     ]
    }
   ],
   "source": [
    "import pandas as pd\n",
    "from datetime import datetime, timedelta\n",
    "from collections import defaultdict\n",
    "\n",
    "def read_timecard_file(file_name):\n",
    "    \"\"\"\n",
    "    Reads the Assignment_Timecard.xlsx file and returns a DataFrame\n",
    "    representing each employee's timecard entries.\n",
    "\n",
    "    Args:\n",
    "    file_name (str): The name of the Excel file to read.\n",
    "\n",
    "    Returns:\n",
    "    DataFrame: A DataFrame representing each employee's timecard entries.\n",
    "    \"\"\"\n",
    "    df = pd.read_excel(file_name)\n",
    "    df = df.rename(columns={'Employee': 'Position ID', 'Time In': 'Time', 'Time Out': 'Time out'})\n",
    "    df['Time'] = pd.to_datetime(df['Time'])\n",
    "    df['Time out'] = pd.to_datetime(df['Time out'])\n",
    "    return df\n",
    "\n",
    "def analyze_timecard_data(df):\n",
    "    \"\"\"\n",
    "    Analyzes the timecard data and prints the results.\n",
    "\n",
    "    Args:\n",
    "    df (DataFrame): A DataFrame representing each employee's timecard entries.\n",
    "\n",
    "    Returns:\n",
    "    None\n",
    "    \"\"\"\n",
    "    # Calculate the total hours worked by each employee\n",
    "    df['Hours Worked'] = (df['Time out'] - df['Time']).dt.total_seconds() / 3600\n",
    "\n",
    "    # Find employees who worked for 7 consecutive days\n",
    "    consecutive_days = defaultdict(list)\n",
    "    for _, row in df.iterrows():\n",
    "        consecutive_days[row['Position ID']].append(row['Time'].date())\n",
    "\n",
    "    consecutive_days_employees = []\n",
    "    for employee, dates in consecutive_days.items():\n",
    "        if len(set(dates)) == 7:\n",
    "            consecutive_days_employees.append(employee)\n",
    "\n",
    "    print(f\"Employees who worked for 7 consecutive days: {consecutive_days_employees}\")\n",
    "\n",
    "    # Find employees with less than 10 hours between shifts but greater than 1 hour\n",
    "    short_breaks = df[df['Position ID'].isin(df['Position ID'].shift()) &\n",
    "                      (df['Time out'].shift() + timedelta(hours=1) < df['Time'])]\n",
    "\n",
    "    short_breaks_employees = short_breaks['Position ID'].unique()\n",
    "    print(f\"Employees with less than 10 hours between shifts but greater than 1 hour: {short_breaks_employees}\")\n",
    "\n",
    "    # Find employees who worked for more than 14 hours in a single shift\n",
    "    long_shifts = df[df['Hours Worked'] > 14]\n",
    "\n",
    "    long_shifts_employees = long_shifts['Position ID'].unique()\n",
    "    print(f\"Employees who worked for more than 14 hours in a single shift: {long_shifts_employees}\")\n",
    "\n",
    "# Read the timecard file\n",
    "df = read_timecard_file('Assignment_Timecard.xlsx')\n",
    "\n",
    "# Analyze the timecard data\n",
    "analyze_timecard_data(df)"
   ]
  },
  {
   "cell_type": "code",
   "execution_count": null,
   "id": "c25ce0a7",
   "metadata": {},
   "outputs": [],
   "source": []
  }
 ],
 "metadata": {
  "kernelspec": {
   "display_name": "Python 3 (ipykernel)",
   "language": "python",
   "name": "python3"
  },
  "language_info": {
   "codemirror_mode": {
    "name": "ipython",
    "version": 3
   },
   "file_extension": ".py",
   "mimetype": "text/x-python",
   "name": "python",
   "nbconvert_exporter": "python",
   "pygments_lexer": "ipython3",
   "version": "3.11.5"
  }
 },
 "nbformat": 4,
 "nbformat_minor": 5
}
